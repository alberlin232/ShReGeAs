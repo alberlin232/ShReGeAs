{
 "cells": [
  {
   "cell_type": "code",
   "execution_count": 41,
   "metadata": {},
   "outputs": [],
   "source": [
    "file1 = open('../testData/YeastReads.fasta', 'r')\n",
    "Lines = file1.readlines()\n",
    "deg = {}\n",
    "outerMap = {}\n",
    "count = 0\n",
    "for line in Lines:\n",
    "    if (line[0] == \">\"):\n",
    "        continue\n",
    "    pre = line[0:15]\n",
    "    suf = line[15:30]\n",
    "\n",
    "    if (pre not in outerMap):\n",
    "        outerMap[pre] = {}\n",
    "        outerMap[pre][suf] = []\n",
    "        outerMap[pre][suf].append(count)\n",
    "    else:\n",
    "        if (suf not in outerMap[pre]):\n",
    "            outerMap[pre][suf] = []\n",
    "            outerMap[pre][suf].append(count)\n",
    "        else:\n",
    "            outerMap[pre][suf].append(count)\n",
    "    count += 1\n",
    "\n",
    "    if (pre not in deg):\n",
    "        deg[pre] = [0,1]\n",
    "    else:\n",
    "        deg[pre][1] += 1\n",
    "    if (suf not in deg):\n",
    "        deg[suf] = [1,0]\n",
    "    else:\n",
    "        deg[suf][0] += 1\n"
   ]
  },
  {
   "cell_type": "code",
   "execution_count": 42,
   "metadata": {},
   "outputs": [
    {
     "name": "stdout",
     "output_type": "stream",
     "text": [
      "Out > IN :  2032 [ 0.42236541259613386 ]\n"
     ]
    }
   ],
   "source": [
    "count = 0\n",
    "length = 0\n",
    "for val in deg.values():\n",
    "    length += 1\n",
    "    if val[1] > val[0]:\n",
    "        count += 1\n",
    "print(\"Out > IN : \", count, \"[\", count / length, \"]\")"
   ]
  },
  {
   "cell_type": "code",
   "execution_count": 43,
   "metadata": {},
   "outputs": [],
   "source": [
    "def getNodeHash(fix):\n",
    "    sum = 0\n",
    "    for val, idx in enumerate(fix):\n",
    "        if val == 'C':\n",
    "            sum += 1 * (4 ** idx)\n",
    "        elif val == 'G':\n",
    "            sum += 2 * (4 ** idx)\n",
    "        elif val == 'T':\n",
    "            sum += 3 * (4 ** idx)\n",
    "    return sum\n",
    "\n"
   ]
  },
  {
   "cell_type": "code",
   "execution_count": 44,
   "metadata": {},
   "outputs": [],
   "source": [
    "def make_paths(outerMap, deg):\n",
    "    # make paths from the outerMap\n",
    "    paths = {}\n",
    "    used = {}\n",
    "    while True:\n",
    "        pre = -1\n",
    "        path = []\n",
    "        for node in deg.keys():\n",
    "            if deg[node][1] > deg[node][0]:\n",
    "                pre = node\n",
    "                break\n",
    "        if pre == -1:\n",
    "            break\n",
    "        while True:\n",
    "            if deg[pre][1] == 0:\n",
    "                break;\n",
    "            end = False\n",
    "            for i in outerMap[pre].keys():\n",
    "                for j in outerMap[pre][i]:\n",
    "                    if j not in used:\n",
    "                        used[j] = 1\n",
    "                        deg[i][0] -= 1\n",
    "                        deg[pre][1] -= 1\n",
    "                        pre = i\n",
    "                        path.append(pre)\n",
    "                        end = True\n",
    "                        break\n",
    "                if end:\n",
    "                    break\n",
    "        path = ''.join(path)\n",
    "        if (path not in paths):\n",
    "            paths[path] = 1\n",
    "    return paths\n"
   ]
  },
  {
   "cell_type": "code",
   "execution_count": 45,
   "metadata": {},
   "outputs": [],
   "source": [
    "res = make_paths(outerMap, deg)"
   ]
  },
  {
   "cell_type": "code",
   "execution_count": 46,
   "metadata": {},
   "outputs": [],
   "source": [
    "\n",
    "for i in res.keys():\n",
    "    for j in res.keys():\n",
    "        if (i == j): continue\n",
    "        if (i[0:] == j[1:]):\n",
    "            print(\"Overlap\")\n"
   ]
  },
  {
   "cell_type": "code",
   "execution_count": 47,
   "metadata": {},
   "outputs": [
    {
     "data": {
      "text/plain": [
       "2728"
      ]
     },
     "execution_count": 47,
     "metadata": {},
     "output_type": "execute_result"
    }
   ],
   "source": [
    "len(res)"
   ]
  },
  {
   "cell_type": "code",
   "execution_count": null,
   "metadata": {},
   "outputs": [],
   "source": []
  },
  {
   "cell_type": "code",
   "execution_count": null,
   "metadata": {},
   "outputs": [],
   "source": []
  }
 ],
 "metadata": {
  "kernelspec": {
   "display_name": "Python 3",
   "language": "python",
   "name": "python3"
  },
  "language_info": {
   "codemirror_mode": {
    "name": "ipython",
    "version": 3
   },
   "file_extension": ".py",
   "mimetype": "text/x-python",
   "name": "python",
   "nbconvert_exporter": "python",
   "pygments_lexer": "ipython3",
   "version": "3.10.6"
  },
  "orig_nbformat": 4,
  "vscode": {
   "interpreter": {
    "hash": "916dbcbb3f70747c44a77c7bcd40155683ae19c65e1c03b4aa3499c5328201f1"
   }
  }
 },
 "nbformat": 4,
 "nbformat_minor": 2
}
